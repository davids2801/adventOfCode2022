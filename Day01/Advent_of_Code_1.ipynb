{
  "nbformat": 4,
  "nbformat_minor": 0,
  "metadata": {
    "colab": {
      "provenance": [],
      "authorship_tag": "ABX9TyOny8e6gGpaM1yeOwjxDmA0"
    },
    "kernelspec": {
      "name": "python3",
      "display_name": "Python 3"
    },
    "language_info": {
      "name": "python"
    }
  },
  "cells": [
    {
      "cell_type": "code",
      "execution_count": 27,
      "metadata": {
        "id": "_AllFu1NPLiY",
        "outputId": "3841397b-8f2d-4ff8-a8bb-cd6017f0829c",
        "colab": {
          "base_uri": "https://localhost:8080/"
        }
      },
      "outputs": [
        {
          "output_type": "stream",
          "name": "stdout",
          "text": [
            "Elf with the most calories:  129 \n",
            "calories:  65912\n",
            "\n",
            "second elf:  226 \n",
            "calories:  65610\n",
            "\n",
            "second elf:  195 \n",
            "calories:  64103\n",
            "\n",
            "sum:  195625\n"
          ]
        }
      ],
      "source": [
        "\n",
        "with open(\"input.txt\", \"r\") as file:\n",
        "  data = file.read()\n",
        "\n",
        "calories = data.split(\"\\n\")\n",
        "\n",
        "elf_and_cal = {}\n",
        "max_elf = 0;\n",
        "max_cal = 0;\n",
        "cal = 0;\n",
        "elf = 0;\n",
        "for i in calories:\n",
        "  if i != '':\n",
        "    cal += int(i)\n",
        "    elf_and_cal[elf] = cal\n",
        "    if cal > max_cal:\n",
        "      max_cal = cal\n",
        "      max_elf = elf\n",
        "  else:\n",
        "    cal = 0\n",
        "    elf += 1\n",
        "\n",
        "sortedCals = list(elf_and_cal.values())\n",
        "sortedCals.sort(reverse=True)\n",
        "second_elf = [k for k,v in elf_and_cal.items() if v == sortedCals[1]][0]\n",
        "third_elf = [k for k,v in elf_and_cal.items() if v == sortedCals[2]][0]\n",
        "\n",
        "print(\"Elf with the most calories: \", max_elf, \"\\ncalories: \", max_cal)\n",
        "print(\"\\nsecond elf: \", second_elf, \"\\ncalories: \", elf_and_cal[second_elf])\n",
        "print(\"\\nsecond elf: \", third_elf, \"\\ncalories: \", elf_and_cal[third_elf])\n",
        "\n",
        "sum = max_cal + elf_and_cal[second_elf] + elf_and_cal[third_elf]\n",
        "\n",
        "print(\"\\nsum: \", sum)"
      ]
    }
  ]
}
