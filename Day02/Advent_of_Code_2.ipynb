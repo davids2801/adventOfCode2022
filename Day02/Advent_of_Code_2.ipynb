{
  "nbformat": 4,
  "nbformat_minor": 0,
  "metadata": {
    "colab": {
      "provenance": [],
      "authorship_tag": "ABX9TyObdLQmsofAig6jIbEsdoCg",
      "include_colab_link": true
    },
    "kernelspec": {
      "name": "python3",
      "display_name": "Python 3"
    },
    "language_info": {
      "name": "python"
    }
  },
  "cells": [
    {
      "cell_type": "markdown",
      "metadata": {
        "id": "view-in-github",
        "colab_type": "text"
      },
      "source": [
        "<a href=\"https://colab.research.google.com/github/davids2801/adventOfCode2022/blob/main/Advent_of_Code_2.ipynb\" target=\"_parent\"><img src=\"https://colab.research.google.com/assets/colab-badge.svg\" alt=\"Open In Colab\"/></a>"
      ]
    },
    {
      "cell_type": "code",
      "execution_count": 3,
      "metadata": {
        "id": "xKWlB1hXfZsS",
        "colab": {
          "base_uri": "https://localhost:8080/"
        },
        "outputId": "cc0bd2e5-8452-471c-d27b-3e72de3363fd"
      },
      "outputs": [
        {
          "output_type": "stream",
          "name": "stdout",
          "text": [
            "13484\n",
            "13433\n"
          ]
        }
      ],
      "source": [
        "with open(\"input.txt\", \"r\") as file:\n",
        "  data = file.read()\n",
        "\n",
        "strategy = data.split(\"\\n\")\n",
        "score = 0\n",
        "for i in strategy:\n",
        "  me = i.split(\" \")[1]\n",
        "  opp = i.split(\" \")[0]\n",
        "  if me == \"Y\":\n",
        "    score += 2\n",
        "    if opp == 'A':\n",
        "      score += 6\n",
        "    elif opp == 'B':\n",
        "      score += 3\n",
        "  if me == \"X\":\n",
        "    score += 1\n",
        "    if opp == 'A':\n",
        "      score += 3\n",
        "    elif opp == 'C':\n",
        "      score += 6\n",
        "  if me == \"Z\":\n",
        "    score += 3\n",
        "    if opp == 'B':\n",
        "      score += 6\n",
        "    elif opp == 'C':\n",
        "      score += 3\n",
        "\n",
        "print(score)\n",
        "\n",
        "score2 = 0\n",
        "for i in strategy:\n",
        "  me = i.split(\" \")[1]\n",
        "  opp = i.split(\" \")[0]\n",
        "  if me == 'X': #lose\n",
        "    if opp == 'A': \n",
        "      me = 'Z'\n",
        "    elif opp == 'B':\n",
        "      me = 'X'\n",
        "    elif opp == 'C':\n",
        "      me = 'Y'\n",
        "  elif me == 'Y': #draw\n",
        "    if opp == 'A': \n",
        "      me = 'X'\n",
        "    elif opp == 'B':\n",
        "      me = 'Y'\n",
        "    elif opp == 'C':\n",
        "      me = 'Z'\n",
        "  elif me == 'Z': #win\n",
        "    if opp == 'A': \n",
        "      me = 'Y'\n",
        "    elif opp == 'B':\n",
        "      me = 'Z'\n",
        "    elif opp == 'C':\n",
        "      me = 'X'\n",
        "\n",
        "  if me == \"Y\": #paper\n",
        "    score2 += 2\n",
        "    if opp == 'A': #rock\n",
        "      score2 += 6\n",
        "    elif opp == 'B': #paper\n",
        "      score2 += 3\n",
        "  elif me == \"X\": #rock\n",
        "    score2 += 1\n",
        "    if opp == 'A':\n",
        "      score2 += 3\n",
        "    elif opp == 'C': #scissors\n",
        "      score2 += 6\n",
        "  elif me == \"Z\": #scissors\n",
        "    score2 += 3\n",
        "    if opp == 'B':\n",
        "      score2 += 6\n",
        "    elif opp == 'C':\n",
        "      score2 += 3\n",
        "\n",
        "print(score2)"
      ]
    },
    {
      "cell_type": "code",
      "source": [],
      "metadata": {
        "id": "DeDvUzz5UXjh"
      },
      "execution_count": null,
      "outputs": []
    }
  ]
}
